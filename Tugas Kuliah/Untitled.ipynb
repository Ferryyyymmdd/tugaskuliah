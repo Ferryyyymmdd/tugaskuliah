{
 "cells": [
  {
   "cell_type": "code",
   "execution_count": 48,
   "id": "b41d190f",
   "metadata": {},
   "outputs": [
    {
     "name": "stdout",
     "output_type": "stream",
     "text": [
      "        Kartu Tanda Penduduk\n",
      "=========================================\n",
      "NIK :  610101050xxxx\n",
      "\n",
      "\n",
      "\n",
      "Nama              : Ferry Saptawan\n",
      "Tempat/Tgl Lahir  : SAMBAS, 05-09-1999\n",
      "Jenis Kelamin     : Laki - Laki\n",
      "Alamat            : DSN INTI NO.02\n",
      "    RT/RW         : 001/001\n",
      "    Kel/Desa      : Pendawan\n",
      "    Kecamatan     : SAMBAS  \n",
      "Agama             : islam\n",
      "Status Perkawinan : Belum Kawin\n",
      "Pekerjaan         : Pelajar/Mahasiswa\n",
      "Kewarganegaraan   : WNI\n",
      "=========================================\n"
     ]
    }
   ],
   "source": [
    "nik = \"\"\"610101050xxxx\n",
    "\n",
    "\n",
    "\"\"\"\n",
    "nama = \"Ferry Saptawan\"\n",
    "ttl = \"SAMBAS, 05-09-1999\"\n",
    "JenisKelamin = \"Laki - Laki\"\n",
    "alamat = \"\"\"DSN INTI NO.02\n",
    "    RT/RW         : 001/001\n",
    "    Kel/Desa      : Pendawan\n",
    "    Kecamatan     : SAMBAS  \"\"\"\n",
    "agama = \"islam\"\n",
    "StatusPerkawinan = \"Belum Kawin\"\n",
    "pekerjaan = \"Pelajar/Mahasiswa\"\n",
    "kewarganegaraan = \"WNI\"\n",
    "\n",
    "\n",
    "print(\"        Kartu Tanda Penduduk\")\n",
    "print(\"=========================================\")\n",
    "print(\"NIK : \",nik)\n",
    "print(\"Nama              :\",nama)\n",
    "print(\"Tempat/Tgl Lahir  :\",ttl )\n",
    "print(\"Jenis Kelamin     :\",JenisKelamin)\n",
    "print(\"Alamat            :\",alamat)\n",
    "print(\"Agama             :\",agama)\n",
    "print(\"Status Perkawinan :\",StatusPerkawinan)\n",
    "print(\"Pekerjaan         :\",pekerjaan)\n",
    "print(\"Kewarganegaraan   :\",kewarganegaraan)\n",
    "print(\"=========================================\")\n"
   ]
  },
  {
   "cell_type": "code",
   "execution_count": 71,
   "id": "9163b7e5",
   "metadata": {},
   "outputs": [
    {
     "name": "stdout",
     "output_type": "stream",
     "text": [
      "        Surat Izin Mengemudi\n",
      "==========================================\n",
      "Nama          : Ferry Saptawan\n",
      "Alamat        : DSN INTI NO.02\n",
      "                 RT : 1/1 PENDAWAN\n",
      "                  SAMBAS\n",
      "Tempat        : SAMBAS\n",
      "Tgl.Lahir     : 05-09-1999\n",
      "Tinggi        : 177\n",
      "Pekerjaan     : Pelajar\n",
      "No.Sim        : 101617xxxxxxxxx\n",
      "Berlaku s/d   : 05-09-2022\n",
      "===========================================\n"
     ]
    }
   ],
   "source": [
    "nama = \"Ferry Saptawan\"\n",
    "alamat = \"\"\"DSN INTI NO.02\n",
    "                 RT : 1/1 PENDAWAN\n",
    "                  SAMBAS\"\"\"\n",
    "ttl = \"\"\"SAMBAS\n",
    "Tgl.Lahir     : 05-09-1999\"\"\"\n",
    "tinggi = \"177\"\n",
    "pekerjaan = \"Pelajar\"\n",
    "nosim = \"101617xxxxxxxxx\"\n",
    "masber = \"05-09-2022\"\n",
    "\n",
    "print(\"        Surat Izin Mengemudi\")\n",
    "print(\"==========================================\")\n",
    "print(\"Nama          :\",nama)\n",
    "print(\"Alamat        :\",alamat)\n",
    "print(\"Tempat        :\",ttl)\n",
    "print(\"Tinggi        :\",tinggi)\n",
    "print(\"Pekerjaan     :\",pekerjaan)\n",
    "print(\"No.Sim        :\",nosim)\n",
    "print(\"Berlaku s/d   :\",masber)\n",
    "print(\"===========================================\")"
   ]
  },
  {
   "cell_type": "code",
   "execution_count": 93,
   "id": "1a50b600",
   "metadata": {},
   "outputs": [
    {
     "name": "stdout",
     "output_type": "stream",
     "text": [
      "          Curriculume Vitae\n",
      "=========================================\n",
      "Biodata\n",
      " \n",
      "Nama: Ferry Saptawan\n",
      "Agama: Islam\n",
      "Tinggi: 177\n",
      "Status Perkawinan: Belum Menikah\n",
      "Alamat : Desa Pendawan No.02 rt1/rw1 \n",
      "          \n",
      "=========================================\n",
      "Pendidikan Formal    :  - SDN 6 Satai C\n",
      "                        - SMPN 1 SAMBAS\n",
      "                        - SMKN 1 SAMBAS\n",
      "            \n",
      "         \n",
      "Pendidikan Non-Formal:  -\n",
      "Pengalaman Kerja     : 3 bulan di Pt.Lintas Arta Pontianak\n",
      "Prestasi/Penghargaan : juara 2 popda pencak silat & juara 1 Kejurda Pecak Silat\n",
      "=========================================\n"
     ]
    }
   ],
   "source": [
    "biodata = \"\"\" \n",
    "Nama: Ferry Saptawan\n",
    "Agama: Islam\n",
    "Tinggi: 177\n",
    "Status Perkawinan: Belum Menikah\n",
    "Alamat : Desa Pendawan No.02 rt1/rw1 \n",
    "          \"\"\"\n",
    "penfor = \"\"\" - SDN 6 Satai C\n",
    "                        - SMPN 1 SAMBAS\n",
    "                        - SMKN 1 SAMBAS\n",
    "            \n",
    "         \"\"\"\n",
    "penonfor = \" -\"\n",
    "orga = \"anggota KPTI SAMBAS\"\n",
    "pengker = \"3 bulan di Pt.Lintas Arta Pontianak\"\n",
    "pres = \"juara 2 popda pencak silat & juara 1 Kejurda Pecak Silat\"\n",
    "\n",
    "print(\"          Curriculume Vitae\")\n",
    "print(\"=========================================\")\n",
    "print(\"Biodata\")\n",
    "print(biodata)\n",
    "print(\"=========================================\")\n",
    "print(\"Pendidikan Formal    :\",penfor)\n",
    "print(\"Pendidikan Non-Formal:\",penonfor)\n",
    "print(\"Pengalaman Kerja     :\", pengker)\n",
    "print(\"Prestasi/Penghargaan :\",pres)\n",
    "print(\"=========================================\")"
   ]
  },
  {
   "cell_type": "code",
   "execution_count": null,
   "id": "1442e055",
   "metadata": {},
   "outputs": [],
   "source": []
  }
 ],
 "metadata": {
  "kernelspec": {
   "display_name": "Python 3",
   "language": "python",
   "name": "python3"
  },
  "language_info": {
   "codemirror_mode": {
    "name": "ipython",
    "version": 3
   },
   "file_extension": ".py",
   "mimetype": "text/x-python",
   "name": "python",
   "nbconvert_exporter": "python",
   "pygments_lexer": "ipython3",
   "version": "3.8.8"
  }
 },
 "nbformat": 4,
 "nbformat_minor": 5
}
